{
 "cells": [
  {
   "cell_type": "code",
   "execution_count": 15,
   "id": "33ada9fb-bb3e-4f96-8055-3de9f19b374f",
   "metadata": {},
   "outputs": [
    {
     "name": "stdout",
     "output_type": "stream",
     "text": [
      "On branch master\n",
      "Your branch is up to date with 'origin/master'.\n",
      "\n",
      "nothing to commit, working tree clean\n"
     ]
    }
   ],
   "source": [
    "!git status #bunu ilk açtığında çalıştıracaksın bir sefer"
   ]
  },
  {
   "cell_type": "code",
   "execution_count": 16,
   "id": "edfed7f3-1f78-438d-9d71-150b445fb37b",
   "metadata": {},
   "outputs": [
    {
     "name": "stdout",
     "output_type": "stream",
     "text": [
      "Already up to date.\n"
     ]
    }
   ],
   "source": [
    "!git pull"
   ]
  },
  {
   "cell_type": "code",
   "execution_count": 21,
   "id": "164ee4ed-7f77-4381-95de-8c1f511ae7f6",
   "metadata": {},
   "outputs": [
    {
     "name": "stderr",
     "output_type": "stream",
     "text": [
      "warning: in the working copy of '.ipynb_checkpoints/Lesson1-checkpoint.ipynb', LF will be replaced by CRLF the next time Git touches it\n",
      "warning: in the working copy of 'Lesson1.ipynb', LF will be replaced by CRLF the next time Git touches it\n"
     ]
    }
   ],
   "source": [
    "!git add . "
   ]
  },
  {
   "cell_type": "code",
   "execution_count": null,
   "id": "379c0916-72f8-4ad4-bd0b-cb0bd5a42c51",
   "metadata": {},
   "outputs": [],
   "source": [
    "!git commit -m \"GitHubCommit\""
   ]
  },
  {
   "cell_type": "code",
   "execution_count": 22,
   "id": "b20d339f-9c14-46dc-92af-010ef50bff3d",
   "metadata": {},
   "outputs": [
    {
     "name": "stderr",
     "output_type": "stream",
     "text": [
      "Everything up-to-date\n"
     ]
    }
   ],
   "source": [
    "!git push"
   ]
  },
  {
   "cell_type": "code",
   "execution_count": 19,
   "id": "fa3d3aa7-e425-47db-b616-973b8df02e11",
   "metadata": {},
   "outputs": [
    {
     "name": "stdout",
     "output_type": "stream",
     "text": [
      "Hello SckitLearn\n"
     ]
    }
   ],
   "source": [
    "print (\"Hello SckitLearn\")"
   ]
  },
  {
   "cell_type": "code",
   "execution_count": 20,
   "id": "08adcf82-6f85-4630-b434-beecb360c4f5",
   "metadata": {},
   "outputs": [
    {
     "name": "stdout",
     "output_type": "stream",
     "text": [
      "Hello SckitLearn2\n"
     ]
    }
   ],
   "source": [
    "print (\"Hello SckitLearn2\")"
   ]
  },
  {
   "cell_type": "code",
   "execution_count": null,
   "id": "5d0a8ec1-6420-4abb-a736-3fb6e8fe82e1",
   "metadata": {},
   "outputs": [],
   "source": []
  }
 ],
 "metadata": {
  "kernelspec": {
   "display_name": "Python 3 (ipykernel)",
   "language": "python",
   "name": "python3"
  },
  "language_info": {
   "codemirror_mode": {
    "name": "ipython",
    "version": 3
   },
   "file_extension": ".py",
   "mimetype": "text/x-python",
   "name": "python",
   "nbconvert_exporter": "python",
   "pygments_lexer": "ipython3",
   "version": "3.11.7"
  }
 },
 "nbformat": 4,
 "nbformat_minor": 5
}
