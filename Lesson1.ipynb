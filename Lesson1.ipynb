{
 "cells": [
  {
   "cell_type": "code",
   "execution_count": 1,
   "id": "33ada9fb-bb3e-4f96-8055-3de9f19b374f",
   "metadata": {},
   "outputs": [
    {
     "name": "stdout",
     "output_type": "stream",
     "text": [
      "On branch master\n",
      "Your branch is up to date with 'origin/master'.\n",
      "\n",
      "nothing to commit, working tree clean\n"
     ]
    }
   ],
   "source": [
    "!git status #bunu ilk açtığında çalıştıracaksın bir sefer"
   ]
  },
  {
   "cell_type": "code",
   "execution_count": 2,
   "id": "edfed7f3-1f78-438d-9d71-150b445fb37b",
   "metadata": {},
   "outputs": [
    {
     "name": "stdout",
     "output_type": "stream",
     "text": [
      "Already up to date.\n"
     ]
    }
   ],
   "source": [
    "!git pull"
   ]
  },
  {
   "cell_type": "code",
   "execution_count": 3,
   "id": "164ee4ed-7f77-4381-95de-8c1f511ae7f6",
   "metadata": {},
   "outputs": [
    {
     "name": "stderr",
     "output_type": "stream",
     "text": [
      "warning: in the working copy of '.ipynb_checkpoints/Lesson1-checkpoint.ipynb', LF will be replaced by CRLF the next time Git touches it\n",
      "warning: in the working copy of 'Lesson1.ipynb', LF will be replaced by CRLF the next time Git touches it\n"
     ]
    }
   ],
   "source": [
    "!git add . "
   ]
  },
  {
   "cell_type": "code",
   "execution_count": 4,
   "id": "379c0916-72f8-4ad4-bd0b-cb0bd5a42c51",
   "metadata": {},
   "outputs": [
    {
     "name": "stdout",
     "output_type": "stream",
     "text": [
      "[master 11a4e17] GitHubCommit\n",
      " Committer: Ferhat HanÃ§er (DoguÅŸ Hospitality Ferhat.hancer Retail) <ferhat.hancer@dogushrg.com>\n",
      "Your name and email address were configured automatically based\n",
      "on your username and hostname. Please check that they are accurate.\n",
      "You can suppress this message by setting them explicitly:\n",
      "\n",
      "    git config --global user.name \"Your Name\"\n",
      "    git config --global user.email you@example.com\n",
      "\n",
      "After doing this, you may fix the identity used for this commit with:\n",
      "\n",
      "    git commit --amend --reset-author\n",
      "\n",
      " 2 files changed, 126 insertions(+), 16 deletions(-)\n"
     ]
    }
   ],
   "source": [
    "!git commit -m \"GitHubCommit\""
   ]
  },
  {
   "cell_type": "code",
   "execution_count": 5,
   "id": "b20d339f-9c14-46dc-92af-010ef50bff3d",
   "metadata": {},
   "outputs": [
    {
     "name": "stderr",
     "output_type": "stream",
     "text": [
      "To https://github.com/hferhat/UdemyMachineLearning.git\n",
      "   2d2a37e..11a4e17  master -> master\n"
     ]
    }
   ],
   "source": [
    "!git push"
   ]
  },
  {
   "cell_type": "code",
   "execution_count": 6,
   "id": "fa3d3aa7-e425-47db-b616-973b8df02e11",
   "metadata": {},
   "outputs": [
    {
     "name": "stdout",
     "output_type": "stream",
     "text": [
      "Hello SckitLearn\n"
     ]
    }
   ],
   "source": [
    "print (\"Hello SckitLearn\")"
   ]
  },
  {
   "cell_type": "code",
   "execution_count": 7,
   "id": "08adcf82-6f85-4630-b434-beecb360c4f5",
   "metadata": {},
   "outputs": [
    {
     "name": "stdout",
     "output_type": "stream",
     "text": [
      "Hello SckitLearn2\n"
     ]
    }
   ],
   "source": [
    "print (\"Hello SckitLearn2\")"
   ]
  },
  {
   "cell_type": "code",
   "execution_count": 8,
   "id": "81ed0eb5-bd64-4f2b-bf33-de0554b6f3ad",
   "metadata": {},
   "outputs": [
    {
     "name": "stdout",
     "output_type": "stream",
     "text": [
      "Defaulting to user installation because normal site-packages is not writeable\n",
      "Requirement already satisfied: scikit-learn in c:\\programdata\\anaconda3\\lib\\site-packages (1.2.2)\n",
      "Requirement already satisfied: numpy>=1.17.3 in c:\\programdata\\anaconda3\\lib\\site-packages (from scikit-learn) (1.26.4)\n",
      "Requirement already satisfied: scipy>=1.3.2 in c:\\programdata\\anaconda3\\lib\\site-packages (from scikit-learn) (1.11.4)\n",
      "Requirement already satisfied: joblib>=1.1.1 in c:\\programdata\\anaconda3\\lib\\site-packages (from scikit-learn) (1.2.0)\n",
      "Requirement already satisfied: threadpoolctl>=2.0.0 in c:\\programdata\\anaconda3\\lib\\site-packages (from scikit-learn) (2.2.0)\n"
     ]
    }
   ],
   "source": [
    "!pip install scikit-learn "
   ]
  },
  {
   "cell_type": "code",
   "execution_count": 9,
   "id": "5d0a8ec1-6420-4abb-a736-3fb6e8fe82e1",
   "metadata": {},
   "outputs": [],
   "source": [
    "import pandas as pd\n",
    "from pandas import Series,DataFrame\n",
    "import numpy as np\n",
    "import matplotlib.pyplot as plt\n",
    "import seaborn as sns\n",
    "from pandas_datareader import data as pdr                #import pandas datareader\n",
    "import yfinance as yf  \n",
    "from datetime import datetime\n",
    "%matplotlib inline"
   ]
  },
  {
   "cell_type": "code",
   "execution_count": null,
   "id": "b8428604-0d73-4a20-a60a-f81d824ede05",
   "metadata": {},
   "outputs": [],
   "source": []
  }
 ],
 "metadata": {
  "kernelspec": {
   "display_name": "Python 3 (ipykernel)",
   "language": "python",
   "name": "python3"
  },
  "language_info": {
   "codemirror_mode": {
    "name": "ipython",
    "version": 3
   },
   "file_extension": ".py",
   "mimetype": "text/x-python",
   "name": "python",
   "nbconvert_exporter": "python",
   "pygments_lexer": "ipython3",
   "version": "3.11.7"
  }
 },
 "nbformat": 4,
 "nbformat_minor": 5
}
